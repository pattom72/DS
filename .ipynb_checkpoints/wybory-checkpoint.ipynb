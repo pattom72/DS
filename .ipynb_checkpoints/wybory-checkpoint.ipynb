{
 "cells": [
  {
   "cell_type": "markdown",
   "metadata": {},
   "source": [
    "### Rozkład Benforda dla głosów oddanych na partie w wyborach 2019 "
   ]
  },
  {
   "cell_type": "markdown",
   "metadata": {},
   "source": [
    "[Rozkład Benforda](https://pl.wikipedia.org/wiki/Rozk%C5%82ad_Benforda)  – rozkład prawdopodobieństwa występowania określonej pierwszej cyfry w wielu rzeczywistych danych statystycznych, np. dotyczących powierzchni jezior, danych z rocznika statystycznego, wartościach stałych fizycznych. Ogólnie rozkład ten sprawdza się w przypadku wielkości, które mogą przyjmować różne rzędy wielkości. Fakt częstego występowania tego rozkładu w obserwowanych danych zwany jest prawem Benforda. \n",
    "\n",
    "Prawdopodobieństwo wystąpienia cyfry $k$ to: \n",
    "$$\n",
    "P_k = \\log_{10}(1+\\frac{1}{k})\n",
    "$$\n",
    "\n",
    "Rozkład Benforda jest stosowany do sprawdzania poprawności zeznań podatkowych bądź defraudacji, gdyż ludzie wpisując liczby tak, żeby wydawały się przypadkowe, nie są świadomi, że pewne cyfry występują częściej na pierwszej pozycji.\n",
    "\n",
    "Częstotliwości występowania cyfr na pierwszej pozycji są przedstawione w tabeli poniżej. \n",
    "\n",
    "| c | P(c)  |\n",
    "|---|-------|\n",
    "| 1 | 30.1% |\n",
    "| 2 | 17.6% |\n",
    "| 3 | 12.5% |\n",
    "| 4 | 9.7%  |\n",
    "| 5 | 7.9%  |\n",
    "| 6 | 6.7%  |\n",
    "| 7 | 5.8%  |\n",
    "| 8 | 5.1%  |\n",
    "| 9 | 4.6%  |\n",
    "\n",
    "Wykres rozkładu został zaprezentowany kilka komórek ponżej.\n",
    "\n",
    "-----------------------------\n",
    "Dodatkowe informacje:\n",
    "\n",
    "https://en.wikipedia.org/wiki/Benford%27s_law\n",
    "\n",
    "https://matematyka.poznan.pl/artykul/prawo-benforda-czyli-o-niezmienniczosci-rozkladow/"
   ]
  },
  {
   "cell_type": "code",
   "execution_count": 1,
   "metadata": {},
   "outputs": [],
   "source": [
    "#import pakietów i funkcji, które wykorzystam\n",
    "import requests, zipfile, io\n",
    "import pandas as pd\n",
    "import matplotlib.pyplot as plt\n",
    "import seaborn as sns\n",
    "import numpy as np\n",
    "from scipy.stats import chisquare\n",
    "sns.set()"
   ]
  },
  {
   "cell_type": "code",
   "execution_count": 2,
   "metadata": {},
   "outputs": [
    {
     "data": {
      "text/plain": [
       "Text(0.5, 0, 'c')"
      ]
     },
     "execution_count": 2,
     "metadata": {},
     "output_type": "execute_result"
    },
    {
     "data": {
      "image/png": "[encoded data removed]",
      "text/plain": [
       "<Figure size 432x288 with 1 Axes>"
      ]
     },
     "metadata": {
      "needs_background": "light"
     },
     "output_type": "display_data"
    }
   ],
   "source": [
    "#rysunek rozkładu\n",
    "BENFORD = np.array([30.1, 17.6, 12.5, 9.7, 7.9, 6.7, 5.8, 5.1, 4.6])\n",
    "plt.bar(np.arange(1,10), BENFORD)\n",
    "plt.xticks(np.arange(1, 10, 1.0))\n",
    "plt.title('Rozkład Benforda')\n",
    "plt.ylabel('P(c)')\n",
    "plt.xlabel('c')"
   ]
  },
  {
   "cell_type": "code",
   "execution_count": 3,
   "metadata": {},
   "outputs": [],
   "source": [
    "#dostęp na 26/11/2019\n",
    "response = requests.get('https://wybory.gov.pl/sejmsenat2019/data/csv/wyniki_gl_na_listy_po_obwodach_sejm_csv.zip')\n",
    "zipfile.ZipFile(io.BytesIO(response.content)).extractall()"
   ]
  },
  {
   "cell_type": "code",
   "execution_count": 4,
   "metadata": {},
   "outputs": [
    {
     "data": {
      "text/html": [
       "<div>\n",
       "<style scoped>\n",
       "    .dataframe tbody tr th:only-of-type {\n",
       "        vertical-align: middle;\n",
       "    }\n",
       "\n",
       "    .dataframe tbody tr th {\n",
       "        vertical-align: top;\n",
       "    }\n",
       "\n",
       "    .dataframe thead th {\n",
       "        text-align: right;\n",
       "    }\n",
       "</style>\n",
       "<table border=\"1\" class=\"dataframe\">\n",
       "  <thead>\n",
       "    <tr style=\"text-align: right;\">\n",
       "      <th></th>\n",
       "      <th>Symbol kontrolny</th>\n",
       "      <th>Kod TERYT</th>\n",
       "      <th>Okręg</th>\n",
       "      <th>Numer</th>\n",
       "      <th>Typ obszaru</th>\n",
       "      <th>Typ obwodu</th>\n",
       "      <th>Siedziba</th>\n",
       "      <th>Gmina</th>\n",
       "      <th>Powiat</th>\n",
       "      <th>Województwo</th>\n",
       "      <th>...</th>\n",
       "      <th>KOALICYJNY KOMITET WYBORCZY KOALICJA OBYWATELSKA PO .N IPL ZIELONI - ZPOW-601-6/19</th>\n",
       "      <th>KOMITET WYBORCZY AKCJA ZAWIEDZIONYCH EMERYTÓW RENCISTÓW - ZPOW-601-21/19</th>\n",
       "      <th>KOMITET WYBORCZY KONFEDERACJA WOLNOŚĆ I NIEPODLEGŁOŚĆ - ZPOW-601-5/19</th>\n",
       "      <th>KOMITET WYBORCZY POLSKIE STRONNICTWO LUDOWE - ZPOW-601-19/19</th>\n",
       "      <th>KOMITET WYBORCZY PRAWICA - ZPOW-601-20/19</th>\n",
       "      <th>KOMITET WYBORCZY PRAWO I SPRAWIEDLIWOŚĆ - ZPOW-601-9/19</th>\n",
       "      <th>KOMITET WYBORCZY SKUTECZNI PIOTRA LIROYA-MARCA - ZPOW-601-17/19</th>\n",
       "      <th>KOMITET WYBORCZY SOJUSZ LEWICY DEMOKRATYCZNEJ - ZPOW-601-1/19</th>\n",
       "      <th>KOMITET WYBORCZY WYBORCÓW KOALICJA BEZPARTYJNI I SAMORZĄDOWCY - ZPOW-601-10/19</th>\n",
       "      <th>KOMITET WYBORCZY WYBORCÓW MNIEJSZOŚĆ NIEMIECKA - ZPOW-601-15/19</th>\n",
       "    </tr>\n",
       "  </thead>\n",
       "  <tbody>\n",
       "    <tr>\n",
       "      <th>0</th>\n",
       "      <td>6a18-a07e-c240-e60e-2b2c-d9ee-4b6f-30b6</td>\n",
       "      <td>20101</td>\n",
       "      <td>1</td>\n",
       "      <td>1</td>\n",
       "      <td>miasto</td>\n",
       "      <td>stały</td>\n",
       "      <td>Szkoła Podstawowa Nr 3, ul. Ceramiczna 5, 59-7...</td>\n",
       "      <td>m. Bolesławiec</td>\n",
       "      <td>bolesławiecki</td>\n",
       "      <td>dolnośląskie</td>\n",
       "      <td>...</td>\n",
       "      <td>202</td>\n",
       "      <td>NaN</td>\n",
       "      <td>72</td>\n",
       "      <td>46</td>\n",
       "      <td>NaN</td>\n",
       "      <td>368</td>\n",
       "      <td>NaN</td>\n",
       "      <td>145</td>\n",
       "      <td>49.0</td>\n",
       "      <td>NaN</td>\n",
       "    </tr>\n",
       "  </tbody>\n",
       "</table>\n",
       "<p>1 rows × 42 columns</p>\n",
       "</div>"
      ],
      "text/plain": [
       "                          Symbol kontrolny  Kod TERYT  Okręg  Numer  \\\n",
       "0  6a18-a07e-c240-e60e-2b2c-d9ee-4b6f-30b6      20101      1      1   \n",
       "\n",
       "  Typ obszaru Typ obwodu                                           Siedziba  \\\n",
       "0      miasto      stały  Szkoła Podstawowa Nr 3, ul. Ceramiczna 5, 59-7...   \n",
       "\n",
       "            Gmina         Powiat   Województwo  ...  \\\n",
       "0  m. Bolesławiec  bolesławiecki  dolnośląskie  ...   \n",
       "\n",
       "   KOALICYJNY KOMITET WYBORCZY KOALICJA OBYWATELSKA PO .N IPL ZIELONI - ZPOW-601-6/19  \\\n",
       "0                                                202                                    \n",
       "\n",
       "   KOMITET WYBORCZY AKCJA ZAWIEDZIONYCH EMERYTÓW RENCISTÓW - ZPOW-601-21/19  \\\n",
       "0                                                NaN                          \n",
       "\n",
       "   KOMITET WYBORCZY KONFEDERACJA WOLNOŚĆ I NIEPODLEGŁOŚĆ - ZPOW-601-5/19  \\\n",
       "0                                                 72                       \n",
       "\n",
       "   KOMITET WYBORCZY POLSKIE STRONNICTWO LUDOWE - ZPOW-601-19/19  \\\n",
       "0                                                 46              \n",
       "\n",
       "   KOMITET WYBORCZY PRAWICA - ZPOW-601-20/19  \\\n",
       "0                                        NaN   \n",
       "\n",
       "   KOMITET WYBORCZY PRAWO I SPRAWIEDLIWOŚĆ - ZPOW-601-9/19  \\\n",
       "0                                                368         \n",
       "\n",
       "   KOMITET WYBORCZY SKUTECZNI PIOTRA LIROYA-MARCA - ZPOW-601-17/19  \\\n",
       "0                                                NaN                 \n",
       "\n",
       "   KOMITET WYBORCZY SOJUSZ LEWICY DEMOKRATYCZNEJ - ZPOW-601-1/19  \\\n",
       "0                                                145               \n",
       "\n",
       "   KOMITET WYBORCZY WYBORCÓW KOALICJA BEZPARTYJNI I SAMORZĄDOWCY - ZPOW-601-10/19  \\\n",
       "0                                               49.0                                \n",
       "\n",
       "   KOMITET WYBORCZY WYBORCÓW MNIEJSZOŚĆ NIEMIECKA - ZPOW-601-15/19  \n",
       "0                                                NaN                \n",
       "\n",
       "[1 rows x 42 columns]"
      ]
     },
     "execution_count": 4,
     "metadata": {},
     "output_type": "execute_result"
    }
   ],
   "source": [
    "#wczytuję dane\n",
    "d = pd.read_csv('wyniki_gl_na_listy_po_obwodach_sejm.csv', sep=';')\n",
    "d.head(1)"
   ]
  },
  {
   "cell_type": "code",
   "execution_count": 5,
   "metadata": {},
   "outputs": [],
   "source": [
    "#zmiana nazw kolumn na czytelniejsze\n",
    "d.rename(columns={\n",
    "                    d.columns[32:][0]:'po',\n",
    "                    d.columns[32:][1]:'emeryt',\n",
    "                    d.columns[32:][2]:'konfederacja',\n",
    "                    d.columns[32:][3]:'psl',\n",
    "                    d.columns[32:][4]:'prawica',\n",
    "                    d.columns[32:][5]:'pis',\n",
    "                    d.columns[32:][6]:'liroy',\n",
    "                    d.columns[32:][7]:'sld',\n",
    "                    d.columns[32:][8]:'bezpartyjni',\n",
    "                    d.columns[32:][9]:'mniejszosc'\n",
    "                }, inplace=True)"
   ]
  },
  {
   "cell_type": "code",
   "execution_count": 6,
   "metadata": {},
   "outputs": [],
   "source": [
    "#usuwam te kolumny gdzie większość (>50%) jest null\n",
    "d = d.loc[:, (d.isnull().sum(axis=0)/len(d) < 0.5)]"
   ]
  },
  {
   "cell_type": "markdown",
   "metadata": {},
   "source": [
    "Dalej liczymy rozkład Benforda dla głosów na poszczególne partie. Przetestujemy hipotezy:\n",
    "- $H_0$: Rozkład głosów odpowiada prawu Benforda.\n",
    "- $H_1$: Rozkład głosów nie odpowiada prawu Benforda.      "
   ]
  },
  {
   "cell_type": "code",
   "execution_count": 7,
   "metadata": {},
   "outputs": [],
   "source": [
    "#funkcja obliczająca rozkład danych, robiąca test chi kwadrat i interpretująca wynik\n",
    "def benford(col):\n",
    "    \n",
    "    print(col)\n",
    "    \n",
    "    #zliczam liczności pierwszych cyfr i dzielę przez łączną liczbę\n",
    "    ben = d[col].apply(lambda x: str(x)[0]).value_counts().sort_index()/d[col].count() \n",
    "    \n",
    "    #test chi kwadrat\n",
    "    s, p = chisquare(ben[1:].values*100, f_exp=BENFORD)\n",
    "    \n",
    "    prob = 0.99\n",
    "    \n",
    "    # interpetacja p\n",
    "    alpha = 1.0 - prob\n",
    "    \n",
    "    if p <= alpha:\n",
    "        print('Odrzucamy H0, czyli rozkład NIE odpowiada prawu Benforda!')\n",
    "    else:\n",
    "        print('Nie udaje się odrzucić H0, czyli liczba głosów odpowiada prawu Benforda')"
   ]
  },
  {
   "cell_type": "code",
   "execution_count": 8,
   "metadata": {},
   "outputs": [
    {
     "name": "stdout",
     "output_type": "stream",
     "text": [
      "po\n",
      "Nie udaje się odrzucić H0, czyli liczba głosów odpowiada prawu Benforda\n",
      "\n",
      "\n",
      "konfederacja\n",
      "Nie udaje się odrzucić H0, czyli liczba głosów odpowiada prawu Benforda\n",
      "\n",
      "\n",
      "psl\n",
      "Nie udaje się odrzucić H0, czyli liczba głosów odpowiada prawu Benforda\n",
      "\n",
      "\n",
      "pis\n",
      "Odrzucamy H0, czyli rozkład NIE odpowiada prawu Benforda!\n",
      "\n",
      "\n",
      "sld\n",
      "Nie udaje się odrzucić H0, czyli liczba głosów odpowiada prawu Benforda\n",
      "\n",
      "\n"
     ]
    },
    {
     "data": {
      "image/png": "[encoded data removed]",
      "text/plain": [
       "<Figure size 720x720 with 5 Axes>"
      ]
     },
     "metadata": {
      "needs_background": "light"
     },
     "output_type": "display_data"
    }
   ],
   "source": [
    "#testuję i rysuję wykresy dla poszczególnych partii\n",
    "f = plt.figure(figsize=(10,10))\n",
    "f.subplots_adjust(hspace=1)\n",
    "\n",
    "\n",
    "for i, c in enumerate(d.columns[-5:]):\n",
    "    plt.subplot(3, 2, i+1)\n",
    "    ben = d[c].apply(lambda x: str(x)[0]).value_counts().sort_index()/d[c].count()\n",
    "    plt.plot(np.arange(1,10), 100*ben[1:], 'o-', c='r')\n",
    "    plt.xticks(np.arange(1, 10, 1.0))\n",
    "    plt.bar(np.arange(1,10), BENFORD)\n",
    "    plt.title(c)\n",
    "    \n",
    "    benford(c)\n",
    "    print('\\n')"
   ]
  },
  {
   "cell_type": "markdown",
   "metadata": {},
   "source": [
    "Wynik testu $\\chi^2$ w przypadku PiS wskazuje na odrzucenie $H_0$, czyli rozkład nie odpowiada prawu Benforda. Wizulanie widać również, że otrzymane wyniki odbiegają od teoretycznych. Jest to wynik conajmniej zastanawiający. Aczkolwiek, nie należy wyciągać pochopnych wniosków na podstawie pobieżnej analizy zwłaszcza, że istnieją publikacje kwestionujące zasadność zastosowania rozkładu Benforda do analiz wyników wyborów [[1](https://web.archive.org/web/20140517120934/http://vote.caltech.edu/sites/default/files/benford_pdf_4b97cc5b5b.pdf)], [[2](https://doi.org/10.1063/1.166498)].\n"
   ]
  }
 ],
 "metadata": {
  "kernelspec": {
   "display_name": "Python 3",
   "language": "python",
   "name": "python3"
  },
  "language_info": {
   "codemirror_mode": {
    "name": "ipython",
    "version": 3
   },
   "file_extension": ".py",
   "mimetype": "text/x-python",
   "name": "python",
   "nbconvert_exporter": "python",
   "pygments_lexer": "ipython3",
   "version": "3.7.5"
  }
 },
 "nbformat": 4,
 "nbformat_minor": 2
}
